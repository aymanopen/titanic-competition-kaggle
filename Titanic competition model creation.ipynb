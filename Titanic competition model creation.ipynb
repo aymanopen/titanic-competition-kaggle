{
 "cells": [
  {
   "cell_type": "markdown",
   "metadata": {},
   "source": [
    "### This was done for titanic kaggle competition in 2017\n",
    "I am in the top 7 percentile in this kaggle competition\n",
    "I think the most important feature I added was the grouping of travelers having the same ticket number\n",
    "I used many classifiers with cross validations to get the best model...the best performing was the random forest (better than SVM and the others)\n",
    "Some visualizations were done using seaborn and matplotlib to analyze the data "
   ]
  },
  {
   "cell_type": "code",
   "execution_count": 9,
   "metadata": {
    "collapsed": true
   },
   "outputs": [],
   "source": [
    "import numpy as np\n",
    "import pandas as pd\n",
    "import matplotlib.pyplot as plt\n",
    "from time import time\n",
    "import scipy\n",
    "%matplotlib inline\n",
    "\n",
    "import seaborn as sns"
   ]
  },
  {
   "cell_type": "code",
   "execution_count": 10,
   "metadata": {
    "collapsed": true
   },
   "outputs": [],
   "source": [
    "#def importmodels ():\n",
    "from sklearn.ensemble import AdaBoostClassifier\n",
    "from sklearn.tree import DecisionTreeClassifier\n",
    "from sklearn.naive_bayes import GaussianNB\n",
    "from sklearn.ensemble import RandomForestClassifier\n",
    "from sklearn.svm import SVC\n",
    "from sklearn.neighbors import NearestNeighbors\n",
    "from sklearn.neighbors import KNeighborsClassifier\n",
    "from sklearn.naive_bayes import GaussianNB\n",
    "from sklearn.discriminant_analysis import LinearDiscriminantAnalysis\n",
    "from sklearn.metrics import accuracy_score\n",
    "from sklearn.model_selection import GridSearchCV\n",
    "from sklearn.model_selection import RandomizedSearchCV\n",
    "from sklearn.decomposition import PCA"
   ]
  },
  {
   "cell_type": "code",
   "execution_count": 11,
   "metadata": {
    "collapsed": true
   },
   "outputs": [],
   "source": [
    "from sklearn.model_selection import train_test_split\n"
   ]
  },
  {
   "cell_type": "code",
   "execution_count": null,
   "metadata": {
    "collapsed": true
   },
   "outputs": [],
   "source": [
    "import pydot\n",
    "from sklearn.externals.six import StringIO\n",
    "import pydotplus\n",
    "\n",
    "from sklearn import tree"
   ]
  },
  {
   "cell_type": "markdown",
   "metadata": {
    "collapsed": true
   },
   "source": [
    "# Imported all\n"
   ]
  },
  {
   "cell_type": "markdown",
   "metadata": {
    "collapsed": true
   },
   "source": [
    "# import training data and create titanic_train_df"
   ]
  },
  {
   "cell_type": "code",
   "execution_count": 12,
   "metadata": {
    "collapsed": true
   },
   "outputs": [],
   "source": [
    "titanic_train_df= pd.DataFrame()\n",
    "def readcsv(file):\n",
    "    global titanic_train_df\n",
    "    titanic_train_df=pd.read_csv(file)\n"
   ]
  },
  {
   "cell_type": "code",
   "execution_count": 13,
   "metadata": {},
   "outputs": [
    {
     "data": {
      "text/html": [
       "<div>\n",
       "<style>\n",
       "    .dataframe thead tr:only-child th {\n",
       "        text-align: right;\n",
       "    }\n",
       "\n",
       "    .dataframe thead th {\n",
       "        text-align: left;\n",
       "    }\n",
       "\n",
       "    .dataframe tbody tr th {\n",
       "        vertical-align: top;\n",
       "    }\n",
       "</style>\n",
       "<table border=\"1\" class=\"dataframe\">\n",
       "  <thead>\n",
       "    <tr style=\"text-align: right;\">\n",
       "      <th></th>\n",
       "      <th>PassengerId</th>\n",
       "      <th>Survived</th>\n",
       "      <th>Pclass</th>\n",
       "      <th>Name</th>\n",
       "      <th>Sex</th>\n",
       "      <th>Age</th>\n",
       "      <th>SibSp</th>\n",
       "      <th>Parch</th>\n",
       "      <th>Ticket</th>\n",
       "      <th>Fare</th>\n",
       "      <th>Cabin</th>\n",
       "      <th>Embarked</th>\n",
       "    </tr>\n",
       "  </thead>\n",
       "  <tbody>\n",
       "    <tr>\n",
       "      <th>0</th>\n",
       "      <td>1</td>\n",
       "      <td>0</td>\n",
       "      <td>3</td>\n",
       "      <td>Braund, Mr. Owen Harris</td>\n",
       "      <td>male</td>\n",
       "      <td>22.0</td>\n",
       "      <td>1</td>\n",
       "      <td>0</td>\n",
       "      <td>A/5 21171</td>\n",
       "      <td>7.2500</td>\n",
       "      <td>NaN</td>\n",
       "      <td>S</td>\n",
       "    </tr>\n",
       "    <tr>\n",
       "      <th>1</th>\n",
       "      <td>2</td>\n",
       "      <td>1</td>\n",
       "      <td>1</td>\n",
       "      <td>Cumings, Mrs. John Bradley (Florence Briggs Th...</td>\n",
       "      <td>female</td>\n",
       "      <td>38.0</td>\n",
       "      <td>1</td>\n",
       "      <td>0</td>\n",
       "      <td>PC 17599</td>\n",
       "      <td>71.2833</td>\n",
       "      <td>C85</td>\n",
       "      <td>C</td>\n",
       "    </tr>\n",
       "    <tr>\n",
       "      <th>2</th>\n",
       "      <td>3</td>\n",
       "      <td>1</td>\n",
       "      <td>3</td>\n",
       "      <td>Heikkinen, Miss. Laina</td>\n",
       "      <td>female</td>\n",
       "      <td>26.0</td>\n",
       "      <td>0</td>\n",
       "      <td>0</td>\n",
       "      <td>STON/O2. 3101282</td>\n",
       "      <td>7.9250</td>\n",
       "      <td>NaN</td>\n",
       "      <td>S</td>\n",
       "    </tr>\n",
       "    <tr>\n",
       "      <th>3</th>\n",
       "      <td>4</td>\n",
       "      <td>1</td>\n",
       "      <td>1</td>\n",
       "      <td>Futrelle, Mrs. Jacques Heath (Lily May Peel)</td>\n",
       "      <td>female</td>\n",
       "      <td>35.0</td>\n",
       "      <td>1</td>\n",
       "      <td>0</td>\n",
       "      <td>113803</td>\n",
       "      <td>53.1000</td>\n",
       "      <td>C123</td>\n",
       "      <td>S</td>\n",
       "    </tr>\n",
       "    <tr>\n",
       "      <th>4</th>\n",
       "      <td>5</td>\n",
       "      <td>0</td>\n",
       "      <td>3</td>\n",
       "      <td>Allen, Mr. William Henry</td>\n",
       "      <td>male</td>\n",
       "      <td>35.0</td>\n",
       "      <td>0</td>\n",
       "      <td>0</td>\n",
       "      <td>373450</td>\n",
       "      <td>8.0500</td>\n",
       "      <td>NaN</td>\n",
       "      <td>S</td>\n",
       "    </tr>\n",
       "  </tbody>\n",
       "</table>\n",
       "</div>"
      ],
      "text/plain": [
       "   PassengerId  Survived  Pclass  \\\n",
       "0            1         0       3   \n",
       "1            2         1       1   \n",
       "2            3         1       3   \n",
       "3            4         1       1   \n",
       "4            5         0       3   \n",
       "\n",
       "                                                Name     Sex   Age  SibSp  \\\n",
       "0                            Braund, Mr. Owen Harris    male  22.0      1   \n",
       "1  Cumings, Mrs. John Bradley (Florence Briggs Th...  female  38.0      1   \n",
       "2                             Heikkinen, Miss. Laina  female  26.0      0   \n",
       "3       Futrelle, Mrs. Jacques Heath (Lily May Peel)  female  35.0      1   \n",
       "4                           Allen, Mr. William Henry    male  35.0      0   \n",
       "\n",
       "   Parch            Ticket     Fare Cabin Embarked  \n",
       "0      0         A/5 21171   7.2500   NaN        S  \n",
       "1      0          PC 17599  71.2833   C85        C  \n",
       "2      0  STON/O2. 3101282   7.9250   NaN        S  \n",
       "3      0            113803  53.1000  C123        S  \n",
       "4      0            373450   8.0500   NaN        S  "
      ]
     },
     "execution_count": 13,
     "metadata": {},
     "output_type": "execute_result"
    }
   ],
   "source": [
    "readcsv('train.csv')\n",
    "titanic_train_df.head()"
   ]
  },
  {
   "cell_type": "markdown",
   "metadata": {
    "collapsed": true
   },
   "source": [
    "# Some analysis"
   ]
  },
  {
   "cell_type": "code",
   "execution_count": 14,
   "metadata": {},
   "outputs": [
    {
     "data": {
      "text/plain": [
       "array([[ 0.69901512, -0.13770287],\n",
       "       [-0.13770287,  0.23677222]])"
      ]
     },
     "execution_count": 14,
     "metadata": {},
     "output_type": "execute_result"
    }
   ],
   "source": [
    "np.cov(titanic_train_df['Pclass'],titanic_train_df.Survived)\n",
    "\n"
   ]
  },
  {
   "cell_type": "code",
   "execution_count": 27,
   "metadata": {},
   "outputs": [
    {
     "data": {
      "text/plain": [
       "<matplotlib.axes._subplots.AxesSubplot at 0x7f9ab3f93b38>"
      ]
     },
     "execution_count": 27,
     "metadata": {},
     "output_type": "execute_result"
    },
    {
     "data": {
      "image/png": "[encoded data removed]",
      "text/plain": [
       "<matplotlib.figure.Figure at 0x7f9aba2fba58>"
      ]
     },
     "metadata": {},
     "output_type": "display_data"
    }
   ],
   "source": [
    "fig = plt.figure()\n",
    "\n",
    "ax1 = fig.add_subplot(221)\n",
    "plt.ylim(0,50)\n",
    "((titanic_train_df[(titanic_train_df['Survived']==1) & (titanic_train_df['Sex']=='female')]).Age).hist()\n",
    "ax1 = fig.add_subplot(222)\n",
    "plt.ylim(0,50)\n",
    "(titanic_train_df[(titanic_train_df['Sex']=='female')]).Age.hist()"
   ]
  },
  {
   "cell_type": "code",
   "execution_count": 29,
   "metadata": {},
   "outputs": [
    {
     "data": {
      "text/plain": [
       "<matplotlib.axes._subplots.AxesSubplot at 0x7f9abb9caa58>"
      ]
     },
     "execution_count": 29,
     "metadata": {},
     "output_type": "execute_result"
    },
    {
     "data": {
      "image/png": "[encoded data removed]",
      "text/plain": [
       "<matplotlib.figure.Figure at 0x7f9ab99a9828>"
      ]
     },
     "metadata": {},
     "output_type": "display_data"
    }
   ],
   "source": [
    "%matplotlib inline  \n",
    "titanic_train_df.Age.hist()"
   ]
  },
  {
   "cell_type": "code",
   "execution_count": 15,
   "metadata": {},
   "outputs": [
    {
     "data": {
      "image/png": "[encoded data removed]",
      "text/plain": [
       "<matplotlib.figure.Figure at 0x7f9ad0e519e8>"
      ]
     },
     "metadata": {},
     "output_type": "display_data"
    }
   ],
   "source": [
    "import matplotlib.pyplot as plt\n",
    "g = sns.FacetGrid(titanic_train_df, col=\"Pclass\",  row=\"Sex\",hue='Survived')\n",
    "g = g.map(plt.hist, \"Survived\")"
   ]
  },
  {
   "cell_type": "code",
   "execution_count": null,
   "metadata": {
    "collapsed": true
   },
   "outputs": [],
   "source": []
  },
  {
   "cell_type": "markdown",
   "metadata": {},
   "source": [
    "- convert tickets with string value to int\n",
    "- make sure to take into account different formats of tickets and take the number of the ticket only\n",
    "- Put women and children (From all the titles extracted from name field) into one field,"
   ]
  },
  {
   "cell_type": "code",
   "execution_count": 16,
   "metadata": {},
   "outputs": [
    {
     "name": "stdout",
     "output_type": "stream",
     "text": [
      "   PassengerId  Pclass                                               Name  sp  \\\n",
      "0            1       3                            Braund, Mr. Owen Harris   1   \n",
      "1            2       1  Cumings, Mrs. John Bradley (Florence Briggs Th...   1   \n",
      "2            3       3                             Heikkinen, Miss. Laina   0   \n",
      "3            4       1       Futrelle, Mrs. Jacques Heath (Lily May Peel)   1   \n",
      "4            5       3                           Allen, Mr. William Henry   0   \n",
      "\n",
      "   Survived newticket  newticket2  \n",
      "0         0    700000      21.171  \n",
      "1         1    700000      17.599  \n",
      "2         1    700000    3101.282  \n",
      "3         1    113803       0.000  \n",
      "4         0    700000     373.450  \n"
     ]
    }
   ],
   "source": [
    "\n",
    "tick=[]\n",
    "tick=titanic_train_df.Ticket\n",
    "tick=tick.replace(['LINE'],'5000000')\n",
    "tick=tick.replace(['Basle'],'5110000')\n",
    "newticket=[]\n",
    "for i in tick:\n",
    "\ttry:\n",
    "\t\tx=i.split(' ')\n",
    "\t\tif len(x)>2:\n",
    "\t\t\tnewticket.append(x[2])\n",
    "\t\telif len(x)==2:\n",
    "\t\t\tnewticket.append(x[1])\n",
    "\t\telse:\n",
    "\t\t\tnewticket.append(x[0])\n",
    "\texcept:\n",
    "\t\tnewticket.append(i)\n",
    "\t\tprint(\"except\")\n",
    "#newticket\n",
    "\n",
    "#new ticket and newticket 2 as well\n",
    "newticket2=[0] * len(newticket)\n",
    "for i in range(0,len(newticket)):\n",
    "\tif (newticket.count(newticket[i])<2):\n",
    "\t\tnewticket2[i]=int(newticket[i])/1000\n",
    "\t\tnewticket[i]=700000\n",
    "\n",
    "\n",
    "total=titanic_train_df.assign(newticket=newticket)\n",
    "total=total.assign(newticket2=newticket2)\n",
    "total=total.assign(sp=total.SibSp+total.Parch)\n",
    "#newticket\n",
    "total=total[[\"PassengerId\",\"Pclass\",\"Name\",\"sp\",\"Survived\",\"newticket\",\"newticket2\"]]\n",
    "print(total.head())\n",
    "namelist=[]\n",
    "for x in total.Name:\n",
    "\ty=x.split(',')\n",
    "\tz=y[1].split('.')\n",
    "\tnamelist.append(z[0])\n",
    "\n",
    "total=total.assign(titles=namelist)\n",
    "total.titles=total.titles.str.strip()\n",
    "\n",
    "total.titles=total.titles.replace(['Dona', 'Lady','Mme','Ms','the Countess','Mlle','Mrs','Miss','Master'], 'WNC')\n",
    "total.titles=total.titles.replace(['Don', 'Rev','Major','Sir','Col','Capt','Jonkheer','Dr'], 'Mr')\n",
    "\n",
    "\n",
    "total=total.drop(['Name','newticket2','PassengerId'],axis=1)"
   ]
  },
  {
   "cell_type": "code",
   "execution_count": 17,
   "metadata": {},
   "outputs": [
    {
     "data": {
      "text/plain": [
       "Index(['Pclass', 'sp', 'Survived', 'newticket', 'titles'], dtype='object')"
      ]
     },
     "execution_count": 17,
     "metadata": {},
     "output_type": "execute_result"
    }
   ],
   "source": [
    "total.columns"
   ]
  },
  {
   "cell_type": "code",
   "execution_count": 18,
   "metadata": {},
   "outputs": [
    {
     "name": "stdout",
     "output_type": "stream",
     "text": [
      "64165\n"
     ]
    }
   ],
   "source": [
    "#drop 70000\n",
    "missed=0\n",
    "totalcount=0\n",
    "temptotal=total[total.newticket!=700000]\n",
    "for ticket in temptotal.newticket.unique().tolist():\n",
    "    for title in temptotal.titles:\n",
    "        condition=(temptotal.newticket==ticket) & (temptotal.titles==title)\n",
    "        cutted=temptotal[condition]\n",
    "        tempsurv=len(cutted.Survived[cutted.Survived==1])\n",
    "        tempusurv=len(cutted.Survived[cutted.Survived==0])\n",
    "        if (tempsurv >0) & (tempusurv >0):\n",
    "            missed=missed+tempsurv + tempusurv\n",
    "            totalcount=totalcount+tempsurv + tempusurv\n",
    "        else:\n",
    "            totalcount=totalcount+tempsurv + tempusurv\n",
    "print(totalcount)\n",
    "unseparatedpercentage=missed/totalcount"
   ]
  },
  {
   "cell_type": "code",
   "execution_count": 19,
   "metadata": {},
   "outputs": [
    {
     "data": {
      "text/plain": [
       "3937"
      ]
     },
     "execution_count": 19,
     "metadata": {},
     "output_type": "execute_result"
    }
   ],
   "source": [
    "missed"
   ]
  },
  {
   "cell_type": "code",
   "execution_count": 20,
   "metadata": {},
   "outputs": [
    {
     "data": {
      "text/plain": [
       "['113803',\n",
       " '349909',\n",
       " '347742',\n",
       " '237736',\n",
       " '9549',\n",
       " '347082',\n",
       " '382652',\n",
       " '239865',\n",
       " '347077',\n",
       " '19950',\n",
       " '17569',\n",
       " '17604',\n",
       " '113789',\n",
       " '345764',\n",
       " '2651',\n",
       " '11668',\n",
       " '2123',\n",
       " '349237',\n",
       " '3101295',\n",
       " '17572',\n",
       " '34651',\n",
       " '2144',\n",
       " '113572',\n",
       " '36973',\n",
       " '347088',\n",
       " '2661',\n",
       " '14879',\n",
       " '1601',\n",
       " '248738',\n",
       " '364516',\n",
       " '3101278',\n",
       " '6608',\n",
       " '2315',\n",
       " '231919',\n",
       " '244367',\n",
       " '35281',\n",
       " '371110',\n",
       " '110465',\n",
       " '2665',\n",
       " '2627',\n",
       " '17558',\n",
       " '2668',\n",
       " '7534',\n",
       " '17593',\n",
       " '2678',\n",
       " '3101279',\n",
       " '33112',\n",
       " '230080',\n",
       " '113776',\n",
       " '2343',\n",
       " '363291',\n",
       " '113505',\n",
       " '4133',\n",
       " '5000000',\n",
       " '230136',\n",
       " '370365',\n",
       " '364849',\n",
       " '347054',\n",
       " '2699',\n",
       " '35273',\n",
       " '243847',\n",
       " '19943',\n",
       " '751',\n",
       " '31921',\n",
       " '367230',\n",
       " '19928',\n",
       " '250649',\n",
       " '11751',\n",
       " '244252',\n",
       " '3336',\n",
       " '370129',\n",
       " '110152',\n",
       " '17755',\n",
       " '230433',\n",
       " '110413',\n",
       " '17582',\n",
       " '17760',\n",
       " '113798',\n",
       " '250644',\n",
       " '13502',\n",
       " '239853',\n",
       " '2673',\n",
       " '19877',\n",
       " '11967',\n",
       " '113781',\n",
       " '367226',\n",
       " '17421',\n",
       " '17758',\n",
       " '3381',\n",
       " '17485',\n",
       " '11767',\n",
       " '17608',\n",
       " '13529',\n",
       " '36928',\n",
       " '16966',\n",
       " '111361',\n",
       " '17611',\n",
       " '37671',\n",
       " '2691',\n",
       " '17477',\n",
       " '17757',\n",
       " '2653',\n",
       " '113760',\n",
       " '28403',\n",
       " '29106',\n",
       " '345773',\n",
       " '347080',\n",
       " '250655',\n",
       " '376564',\n",
       " '13507',\n",
       " '2666',\n",
       " '17453',\n",
       " '31027',\n",
       " '36947',\n",
       " '26360',\n",
       " '12749',\n",
       " '17761',\n",
       " '5735',\n",
       " '2908',\n",
       " '48871',\n",
       " '17474',\n",
       " '358585',\n",
       " '248727',\n",
       " '220845',\n",
       " '2659',\n",
       " '54636',\n",
       " '19996',\n",
       " '29750',\n",
       " '24160',\n",
       " '250647',\n",
       " '113806',\n",
       " '392096',\n",
       " '3',\n",
       " '6607',\n",
       " '2079']"
      ]
     },
     "execution_count": 20,
     "metadata": {},
     "output_type": "execute_result"
    }
   ],
   "source": [
    "temptotal.newticket.unique().tolist()"
   ]
  },
  {
   "cell_type": "code",
   "execution_count": 21,
   "metadata": {},
   "outputs": [
    {
     "data": {
      "text/html": [
       "<div>\n",
       "<style>\n",
       "    .dataframe thead tr:only-child th {\n",
       "        text-align: right;\n",
       "    }\n",
       "\n",
       "    .dataframe thead th {\n",
       "        text-align: left;\n",
       "    }\n",
       "\n",
       "    .dataframe tbody tr th {\n",
       "        vertical-align: top;\n",
       "    }\n",
       "</style>\n",
       "<table border=\"1\" class=\"dataframe\">\n",
       "  <thead>\n",
       "    <tr style=\"text-align: right;\">\n",
       "      <th></th>\n",
       "      <th>Pclass</th>\n",
       "      <th>sp</th>\n",
       "      <th>Survived</th>\n",
       "      <th>newticket</th>\n",
       "      <th>titles</th>\n",
       "    </tr>\n",
       "  </thead>\n",
       "  <tbody>\n",
       "    <tr>\n",
       "      <th>3</th>\n",
       "      <td>1</td>\n",
       "      <td>1</td>\n",
       "      <td>1</td>\n",
       "      <td>113803</td>\n",
       "      <td>WNC</td>\n",
       "    </tr>\n",
       "    <tr>\n",
       "      <th>7</th>\n",
       "      <td>3</td>\n",
       "      <td>4</td>\n",
       "      <td>0</td>\n",
       "      <td>349909</td>\n",
       "      <td>WNC</td>\n",
       "    </tr>\n",
       "    <tr>\n",
       "      <th>8</th>\n",
       "      <td>3</td>\n",
       "      <td>2</td>\n",
       "      <td>1</td>\n",
       "      <td>347742</td>\n",
       "      <td>WNC</td>\n",
       "    </tr>\n",
       "    <tr>\n",
       "      <th>9</th>\n",
       "      <td>2</td>\n",
       "      <td>1</td>\n",
       "      <td>1</td>\n",
       "      <td>237736</td>\n",
       "      <td>WNC</td>\n",
       "    </tr>\n",
       "    <tr>\n",
       "      <th>10</th>\n",
       "      <td>3</td>\n",
       "      <td>2</td>\n",
       "      <td>1</td>\n",
       "      <td>9549</td>\n",
       "      <td>WNC</td>\n",
       "    </tr>\n",
       "  </tbody>\n",
       "</table>\n",
       "</div>"
      ],
      "text/plain": [
       "    Pclass  sp  Survived newticket titles\n",
       "3        1   1         1    113803    WNC\n",
       "7        3   4         0    349909    WNC\n",
       "8        3   2         1    347742    WNC\n",
       "9        2   1         1    237736    WNC\n",
       "10       3   2         1      9549    WNC"
      ]
     },
     "execution_count": 21,
     "metadata": {},
     "output_type": "execute_result"
    }
   ],
   "source": [
    "temptotal=total[total.newticket!=700000]\n",
    "temptotal.head()"
   ]
  },
  {
   "cell_type": "code",
   "execution_count": 22,
   "metadata": {},
   "outputs": [
    {
     "data": {
      "text/plain": [
       "2"
      ]
     },
     "execution_count": 22,
     "metadata": {},
     "output_type": "execute_result"
    }
   ],
   "source": [
    "len(temptotal[(temptotal.newticket=='9549') & (temptotal.titles=='WNC')].Survived[temptotal.Survived==1])"
   ]
  },
  {
   "cell_type": "markdown",
   "metadata": {
    "collapsed": true
   },
   "source": [
    "- An example of members of one ticket travelling togther"
   ]
  },
  {
   "cell_type": "code",
   "execution_count": 24,
   "metadata": {},
   "outputs": [
    {
     "data": {
      "text/html": [
       "<div>\n",
       "<style>\n",
       "    .dataframe thead tr:only-child th {\n",
       "        text-align: right;\n",
       "    }\n",
       "\n",
       "    .dataframe thead th {\n",
       "        text-align: left;\n",
       "    }\n",
       "\n",
       "    .dataframe tbody tr th {\n",
       "        vertical-align: top;\n",
       "    }\n",
       "</style>\n",
       "<table border=\"1\" class=\"dataframe\">\n",
       "  <thead>\n",
       "    <tr style=\"text-align: right;\">\n",
       "      <th></th>\n",
       "      <th>Pclass</th>\n",
       "      <th>sp</th>\n",
       "      <th>Survived</th>\n",
       "      <th>newticket</th>\n",
       "      <th>titles</th>\n",
       "    </tr>\n",
       "  </thead>\n",
       "  <tbody>\n",
       "    <tr>\n",
       "      <th>297</th>\n",
       "      <td>1</td>\n",
       "      <td>3</td>\n",
       "      <td>0</td>\n",
       "      <td>113781</td>\n",
       "      <td>WNC</td>\n",
       "    </tr>\n",
       "    <tr>\n",
       "      <th>305</th>\n",
       "      <td>1</td>\n",
       "      <td>3</td>\n",
       "      <td>1</td>\n",
       "      <td>113781</td>\n",
       "      <td>WNC</td>\n",
       "    </tr>\n",
       "    <tr>\n",
       "      <th>498</th>\n",
       "      <td>1</td>\n",
       "      <td>3</td>\n",
       "      <td>0</td>\n",
       "      <td>113781</td>\n",
       "      <td>WNC</td>\n",
       "    </tr>\n",
       "    <tr>\n",
       "      <th>708</th>\n",
       "      <td>1</td>\n",
       "      <td>0</td>\n",
       "      <td>1</td>\n",
       "      <td>113781</td>\n",
       "      <td>WNC</td>\n",
       "    </tr>\n",
       "  </tbody>\n",
       "</table>\n",
       "</div>"
      ],
      "text/plain": [
       "     Pclass  sp  Survived newticket titles\n",
       "297       1   3         0    113781    WNC\n",
       "305       1   3         1    113781    WNC\n",
       "498       1   3         0    113781    WNC\n",
       "708       1   0         1    113781    WNC"
      ]
     },
     "execution_count": 24,
     "metadata": {},
     "output_type": "execute_result"
    }
   ],
   "source": [
    "total[total.newticket=='113781']"
   ]
  },
  {
   "cell_type": "code",
   "execution_count": 25,
   "metadata": {},
   "outputs": [
    {
     "data": {
      "text/html": [
       "<div>\n",
       "<style>\n",
       "    .dataframe thead tr:only-child th {\n",
       "        text-align: right;\n",
       "    }\n",
       "\n",
       "    .dataframe thead th {\n",
       "        text-align: left;\n",
       "    }\n",
       "\n",
       "    .dataframe tbody tr th {\n",
       "        vertical-align: top;\n",
       "    }\n",
       "</style>\n",
       "<table border=\"1\" class=\"dataframe\">\n",
       "  <thead>\n",
       "    <tr style=\"text-align: right;\">\n",
       "      <th></th>\n",
       "      <th>PassengerId</th>\n",
       "      <th>Survived</th>\n",
       "      <th>Pclass</th>\n",
       "      <th>Name</th>\n",
       "      <th>Sex</th>\n",
       "      <th>Age</th>\n",
       "      <th>SibSp</th>\n",
       "      <th>Parch</th>\n",
       "      <th>Ticket</th>\n",
       "      <th>Fare</th>\n",
       "      <th>Cabin</th>\n",
       "      <th>Embarked</th>\n",
       "    </tr>\n",
       "  </thead>\n",
       "  <tbody>\n",
       "    <tr>\n",
       "      <th>297</th>\n",
       "      <td>298</td>\n",
       "      <td>0</td>\n",
       "      <td>1</td>\n",
       "      <td>Allison, Miss. Helen Loraine</td>\n",
       "      <td>female</td>\n",
       "      <td>2.00</td>\n",
       "      <td>1</td>\n",
       "      <td>2</td>\n",
       "      <td>113781</td>\n",
       "      <td>151.55</td>\n",
       "      <td>C22 C26</td>\n",
       "      <td>S</td>\n",
       "    </tr>\n",
       "    <tr>\n",
       "      <th>305</th>\n",
       "      <td>306</td>\n",
       "      <td>1</td>\n",
       "      <td>1</td>\n",
       "      <td>Allison, Master. Hudson Trevor</td>\n",
       "      <td>male</td>\n",
       "      <td>0.92</td>\n",
       "      <td>1</td>\n",
       "      <td>2</td>\n",
       "      <td>113781</td>\n",
       "      <td>151.55</td>\n",
       "      <td>C22 C26</td>\n",
       "      <td>S</td>\n",
       "    </tr>\n",
       "    <tr>\n",
       "      <th>498</th>\n",
       "      <td>499</td>\n",
       "      <td>0</td>\n",
       "      <td>1</td>\n",
       "      <td>Allison, Mrs. Hudson J C (Bessie Waldo Daniels)</td>\n",
       "      <td>female</td>\n",
       "      <td>25.00</td>\n",
       "      <td>1</td>\n",
       "      <td>2</td>\n",
       "      <td>113781</td>\n",
       "      <td>151.55</td>\n",
       "      <td>C22 C26</td>\n",
       "      <td>S</td>\n",
       "    </tr>\n",
       "    <tr>\n",
       "      <th>708</th>\n",
       "      <td>709</td>\n",
       "      <td>1</td>\n",
       "      <td>1</td>\n",
       "      <td>Cleaver, Miss. Alice</td>\n",
       "      <td>female</td>\n",
       "      <td>22.00</td>\n",
       "      <td>0</td>\n",
       "      <td>0</td>\n",
       "      <td>113781</td>\n",
       "      <td>151.55</td>\n",
       "      <td>NaN</td>\n",
       "      <td>S</td>\n",
       "    </tr>\n",
       "  </tbody>\n",
       "</table>\n",
       "</div>"
      ],
      "text/plain": [
       "     PassengerId  Survived  Pclass  \\\n",
       "297          298         0       1   \n",
       "305          306         1       1   \n",
       "498          499         0       1   \n",
       "708          709         1       1   \n",
       "\n",
       "                                                Name     Sex    Age  SibSp  \\\n",
       "297                     Allison, Miss. Helen Loraine  female   2.00      1   \n",
       "305                   Allison, Master. Hudson Trevor    male   0.92      1   \n",
       "498  Allison, Mrs. Hudson J C (Bessie Waldo Daniels)  female  25.00      1   \n",
       "708                             Cleaver, Miss. Alice  female  22.00      0   \n",
       "\n",
       "     Parch  Ticket    Fare    Cabin Embarked  \n",
       "297      2  113781  151.55  C22 C26        S  \n",
       "305      2  113781  151.55  C22 C26        S  \n",
       "498      2  113781  151.55  C22 C26        S  \n",
       "708      0  113781  151.55      NaN        S  "
      ]
     },
     "execution_count": 25,
     "metadata": {},
     "output_type": "execute_result"
    }
   ],
   "source": [
    "titanic_train_df[titanic_train_df.Ticket=='113781']"
   ]
  },
  {
   "cell_type": "code",
   "execution_count": null,
   "metadata": {
    "collapsed": true
   },
   "outputs": [],
   "source": []
  },
  {
   "cell_type": "code",
   "execution_count": null,
   "metadata": {
    "collapsed": true
   },
   "outputs": [],
   "source": []
  },
  {
   "cell_type": "code",
   "execution_count": 10,
   "metadata": {},
   "outputs": [
    {
     "data": {
      "text/plain": [
       "<seaborn.axisgrid.PairGrid at 0x7f6946e914d0>"
      ]
     },
     "execution_count": 10,
     "metadata": {},
     "output_type": "execute_result"
    },
    {
     "data": {
      "image/png": "[encoded data removed]",
      "text/plain": [
       "<matplotlib.figure.Figure at 0x7f6937370890>"
      ]
     },
     "metadata": {},
     "output_type": "display_data"
    }
   ],
   "source": [
    "sns.pairplot(titanic_train_df.drop(\"Cabin\", axis=1).drop(\"Age\",axis=1),hue=\"Survived\")"
   ]
  },
  {
   "cell_type": "code",
   "execution_count": null,
   "metadata": {
    "collapsed": true
   },
   "outputs": [],
   "source": [
    "sns.pairplot(titanic_train_df.drop(\"Cabin\", axis=1).drop(\"Age\",axis=1),hue=\"Survived\")"
   ]
  },
  {
   "cell_type": "code",
   "execution_count": 17,
   "metadata": {},
   "outputs": [
    {
     "data": {
      "text/plain": [
       "[<matplotlib.lines.Line2D at 0x7f693657ec90>]"
      ]
     },
     "execution_count": 17,
     "metadata": {},
     "output_type": "execute_result"
    },
    {
     "data": {
      "image/png": "[encoded data removed]",
      "text/plain": [
       "<matplotlib.figure.Figure at 0x7f6936565150>"
      ]
     },
     "metadata": {},
     "output_type": "display_data"
    }
   ],
   "source": [
    "plt.plot(titanic_train_df.Pclass,titanic_train_df.Fare,'o')"
   ]
  },
  {
   "cell_type": "code",
   "execution_count": 26,
   "metadata": {},
   "outputs": [
    {
     "data": {
      "text/plain": [
       "<seaborn.axisgrid.FacetGrid at 0x7f6931fc3910>"
      ]
     },
     "execution_count": 26,
     "metadata": {},
     "output_type": "execute_result"
    },
    {
     "data": {
      "image/png": "[encoded data removed]",
      "text/plain": [
       "<matplotlib.figure.Figure at 0x7f6931d10390>"
      ]
     },
     "metadata": {},
     "output_type": "display_data"
    }
   ],
   "source": [
    "from matplotlib import rc\n",
    "sns.lmplot(x=\"Fare\",y=\"Pclass\",hue=\"Survived\",data=titanic_train_df,\n",
    "           fit_reg=False)"
   ]
  },
  {
   "cell_type": "code",
   "execution_count": null,
   "metadata": {
    "collapsed": true
   },
   "outputs": [],
   "source": []
  },
  {
   "cell_type": "code",
   "execution_count": null,
   "metadata": {
    "collapsed": true
   },
   "outputs": [],
   "source": []
  },
  {
   "cell_type": "code",
   "execution_count": null,
   "metadata": {},
   "outputs": [],
   "source": []
  },
  {
   "cell_type": "code",
   "execution_count": 30,
   "metadata": {
    "collapsed": true
   },
   "outputs": [],
   "source": [
    "titles=[\"Mrs\",\"Mr\\.\",\"Master\",\"Miss\"]"
   ]
  },
  {
   "cell_type": "markdown",
   "metadata": {},
   "source": [
    "# use titanic_train_df to create a new variable tito_titles \n",
    "Without changing original titanic_train_df"
   ]
  },
  {
   "cell_type": "code",
   "execution_count": 31,
   "metadata": {
    "collapsed": true
   },
   "outputs": [],
   "source": [
    "def getfirstcharCabin():\n",
    "    cabin=titanic_train_df.Cabin\n",
    "    cabintemp=[]\n",
    "    for i in cabin:\n",
    "        #print i\n",
    "        try:\n",
    "            cabintemp.append(i[0])\n",
    "        except TypeError:\n",
    "            cabintemp.append('None')\n",
    "    return cabintemp"
   ]
  },
  {
   "cell_type": "code",
   "execution_count": 32,
   "metadata": {
    "collapsed": true
   },
   "outputs": [],
   "source": [
    "cabinchar=getfirstcharCabin()"
   ]
  },
  {
   "cell_type": "code",
   "execution_count": 33,
   "metadata": {
    "collapsed": true
   },
   "outputs": [],
   "source": [
    "def createnewcols():\n",
    "    train_df=titanic_train_df\n",
    "    don_list=train_df['Name'].str.contains(\"Don\\.\")*1\n",
    "    mrs_list=train_df['Name'].str.contains(\"Mrs\")*1\n",
    "    mr_list=train_df['Name'].str.contains(\"Mr\\.\")*1\n",
    "    master_list=train_df['Name'].str.contains(\"Master\")*1\n",
    "    miss_list=train_df['Name'].str.contains(\"Miss\")*1\n",
    "    rev_list=train_df['Name'].str.contains(\"Rev\\.\")*1\n",
    "    dr_list=train_df['Name'].str.contains(\"Dr\\.\")*1\n",
    "    mme_list=train_df['Name'].str.contains(\"Mme\\.\")*1\n",
    "    lady_list=train_df['Name'].str.contains(\"Lady\\.\")*1\n",
    "    sir_list=train_df['Name'].str.contains(\"Sir\\.\")*1\n",
    "    jr_list=train_df['Name'].str.contains(\"Jr\")*1\n",
    "    mlle_list=train_df['Name'].str.contains(\"Mlle\\.\")*1\n",
    "    col_list=train_df['Name'].str.contains(\"Col\\.\")*1\n",
    "    capt_list=train_df['Name'].str.contains(\"Capt\\.\")*1\n",
    "    countess_list=train_df['Name'].str.contains(\"Countess\\.\")*1\n",
    "    jonkheer_list=train_df['Name'].str.contains(\"Jonkheer\\.\")*1\n",
    "    \n",
    "    train_df_titles=train_df.assign(Jonkheer=jonkheer_list).assign(Countess=countess_list).assign(Capt=capt_list).assign(Col=col_list).assign(Mlle=mlle_list).assign(Sir=sir_list).assign(Lady=lady_list).assign(Mme=mme_list).assign(Dr=dr_list).assign(Rev=rev_list).assign(Don=don_list).assign(Mrs=mrs_list).assign(Mr=mr_list).assign(Master=master_list).assign(Miss=miss_list)\n",
    "    train_df_titles=pd.get_dummies(train_df_titles,columns=['Sex'],prefix=['sex'])\n",
    "    train_df_titles=pd.get_dummies(train_df_titles,columns=['Embarked'],prefix=['embarked'])\n",
    "    sibspparch=train_df_titles['SibSp']+train_df_titles['Parch']\n",
    "    train_df_titles=train_df_titles.assign(sibspparch=sibspparch)\n",
    "    train_df_titles=train_df_titles.assign(cabinchar=getfirstcharCabin())\n",
    "    train_df_titles=pd.get_dummies(train_df_titles,columns=['cabinchar'],prefix=['cabinchar'])\n",
    "    return train_df_titles"
   ]
  },
  {
   "cell_type": "code",
   "execution_count": 34,
   "metadata": {
    "collapsed": true
   },
   "outputs": [],
   "source": [
    "tito_titles=createnewcols()"
   ]
  },
  {
   "cell_type": "code",
   "execution_count": 35,
   "metadata": {
    "scrolled": true
   },
   "outputs": [
    {
     "data": {
      "text/plain": [
       "PassengerId         0\n",
       "Survived            0\n",
       "Pclass              0\n",
       "Name                0\n",
       "Age               177\n",
       "SibSp               0\n",
       "Parch               0\n",
       "Ticket              0\n",
       "Fare                0\n",
       "Cabin             687\n",
       "Jonkheer            0\n",
       "Countess            0\n",
       "Capt                0\n",
       "Col                 0\n",
       "Mlle                0\n",
       "Sir                 0\n",
       "Lady                0\n",
       "Mme                 0\n",
       "Dr                  0\n",
       "Rev                 0\n",
       "Don                 0\n",
       "Mrs                 0\n",
       "Mr                  0\n",
       "Master              0\n",
       "Miss                0\n",
       "sex_female          0\n",
       "sex_male            0\n",
       "embarked_C          0\n",
       "embarked_Q          0\n",
       "embarked_S          0\n",
       "sibspparch          0\n",
       "cabinchar_A         0\n",
       "cabinchar_B         0\n",
       "cabinchar_C         0\n",
       "cabinchar_D         0\n",
       "cabinchar_E         0\n",
       "cabinchar_F         0\n",
       "cabinchar_G         0\n",
       "cabinchar_None      0\n",
       "cabinchar_T         0\n",
       "dtype: int64"
      ]
     },
     "execution_count": 35,
     "metadata": {},
     "output_type": "execute_result"
    }
   ],
   "source": [
    "tito_titles.isnull().sum()"
   ]
  },
  {
   "cell_type": "code",
   "execution_count": 36,
   "metadata": {},
   "outputs": [
    {
     "data": {
      "text/plain": [
       "40"
      ]
     },
     "execution_count": 36,
     "metadata": {},
     "output_type": "execute_result"
    }
   ],
   "source": [
    "len(tito_titles.columns)"
   ]
  },
  {
   "cell_type": "markdown",
   "metadata": {},
   "source": [
    "# create new variable tito_drop\n",
    "from tito_titles without changing titles var"
   ]
  },
  {
   "cell_type": "code",
   "execution_count": 37,
   "metadata": {
    "collapsed": true
   },
   "outputs": [],
   "source": [
    "tito_drop=tito_titles.drop(['Name','Ticket','Cabin','Age'],axis=1)"
   ]
  },
  {
   "cell_type": "code",
   "execution_count": 38,
   "metadata": {},
   "outputs": [
    {
     "data": {
      "text/plain": [
       "36"
      ]
     },
     "execution_count": 38,
     "metadata": {},
     "output_type": "execute_result"
    }
   ],
   "source": [
    "len(tito_drop.columns)"
   ]
  },
  {
   "cell_type": "markdown",
   "metadata": {},
   "source": [
    "# Create train and test "
   ]
  },
  {
   "cell_type": "code",
   "execution_count": 39,
   "metadata": {
    "collapsed": true
   },
   "outputs": [],
   "source": [
    "X_train, X_test, y_train, y_test = train_test_split(tito_drop.drop(['Survived'],axis=1), tito_drop.Survived, test_size=0.13, random_state=42)"
   ]
  },
  {
   "cell_type": "code",
   "execution_count": 40,
   "metadata": {},
   "outputs": [
    {
     "data": {
      "text/plain": [
       "116"
      ]
     },
     "execution_count": 40,
     "metadata": {},
     "output_type": "execute_result"
    }
   ],
   "source": [
    "len(X_test)"
   ]
  },
  {
   "cell_type": "code",
   "execution_count": 41,
   "metadata": {},
   "outputs": [
    {
     "data": {
      "text/plain": [
       "Index(['PassengerId', 'Pclass', 'SibSp', 'Parch', 'Fare', 'Jonkheer',\n",
       "       'Countess', 'Capt', 'Col', 'Mlle', 'Sir', 'Lady', 'Mme', 'Dr', 'Rev',\n",
       "       'Don', 'Mrs', 'Mr', 'Master', 'Miss', 'sex_female', 'sex_male',\n",
       "       'embarked_C', 'embarked_Q', 'embarked_S', 'sibspparch', 'cabinchar_A',\n",
       "       'cabinchar_B', 'cabinchar_C', 'cabinchar_D', 'cabinchar_E',\n",
       "       'cabinchar_F', 'cabinchar_G', 'cabinchar_None', 'cabinchar_T'],\n",
       "      dtype='object')"
      ]
     },
     "execution_count": 41,
     "metadata": {},
     "output_type": "execute_result"
    }
   ],
   "source": [
    "X_test.columns"
   ]
  },
  {
   "cell_type": "code",
   "execution_count": null,
   "metadata": {
    "collapsed": true
   },
   "outputs": [],
   "source": []
  },
  {
   "cell_type": "markdown",
   "metadata": {},
   "source": [
    "# Classifiers"
   ]
  },
  {
   "cell_type": "markdown",
   "metadata": {
    "collapsed": true
   },
   "source": [
    "## Decision Tree"
   ]
  },
  {
   "cell_type": "code",
   "execution_count": 43,
   "metadata": {},
   "outputs": [],
   "source": [
    "def dtmodel(xl,yl):\n",
    "    t0=time()\n",
    "    param_grid=dict(min_samples_split=range(5,150,10))\n",
    "    dt=DecisionTreeClassifier(random_state=300)\n",
    "    grid_dt_titan=GridSearchCV(dt,param_grid,cv=10,scoring='accuracy')\n",
    "    grid_dt_titan.fit(xl,yl)\n",
    "    #print(grid_dt_titan.grid_scores_)\n",
    "    print(\"And the oscar goes to: \")\n",
    "    print(grid_dt_titan.best_score_)\n",
    "    print(\"with: \")\n",
    "    print(grid_dt_titan.best_params_)\n",
    "    t1=time()\n",
    "    print(\"In: \",t1-t0,\" sec.\")"
   ]
  },
  {
   "cell_type": "code",
   "execution_count": 44,
   "metadata": {},
   "outputs": [
    {
     "name": "stdout",
     "output_type": "stream",
     "text": [
      "And the oscar goes to: \n",
      "0.828387096774\n",
      "with: \n",
      "{'min_samples_split': 105}\n",
      "In:  0.4497840404510498  sec.\n"
     ]
    }
   ],
   "source": [
    "dtmodel(X_train.drop(['PassengerId'],axis=1),y_train)"
   ]
  },
  {
   "cell_type": "markdown",
   "metadata": {
    "collapsed": true
   },
   "source": [
    "- dt v2"
   ]
  },
  {
   "cell_type": "code",
   "execution_count": 53,
   "metadata": {},
   "outputs": [
    {
     "name": "stdout",
     "output_type": "stream",
     "text": [
      "[ 0.15014005  0.          0.          0.08378826  0.          0.\n",
      "  0.00942573  0.00430479  0.          0.          0.          0.          0.0187022\n",
      "  0.04339456  0.          0.          0.58181793  0.          0.          0.\n",
      "  0.01361612  0.00293834  0.          0.          0.08358944  0.          0.\n",
      "  0.00150771  0.00336775  0.00340714  0.          0.          0.        ]\n",
      "33\n"
     ]
    }
   ],
   "source": [
    "dt2=DecisionTreeClassifier(random_state=300,min_samples_split=105)\n",
    "dt2.fit(X_train.drop(['cabinchar_T','PassengerId'],axis=1),y_train)\n",
    "print(dt2.feature_importances_)\n",
    "print(dt2.n_features_ )\n",
    "#print(tito_drop.drop(['Survived','cabinchar_T'],axis=1).columns)"
   ]
  },
  {
   "cell_type": "code",
   "execution_count": 54,
   "metadata": {},
   "outputs": [
    {
     "data": {
      "text/plain": [
       "0.83620689655172409"
      ]
     },
     "execution_count": 54,
     "metadata": {},
     "output_type": "execute_result"
    }
   ],
   "source": [
    "predicted=dt2.predict(X_test.drop(['cabinchar_T','PassengerId'],axis=1))\n",
    "accuracy_score(predicted,y_test)"
   ]
  },
  {
   "cell_type": "markdown",
   "metadata": {
    "collapsed": true
   },
   "source": [
    "- random forest"
   ]
  },
  {
   "cell_type": "code",
   "execution_count": 56,
   "metadata": {},
   "outputs": [
    {
     "name": "stdout",
     "output_type": "stream",
     "text": [
      "[  8.02949205e-02   4.45437368e-02   3.23912387e-02   1.77233906e-01\n",
      "   0.00000000e+00   1.65669988e-04   1.28575627e-03   7.38367769e-04\n",
      "   1.90965786e-04   1.07901746e-03   1.99364866e-04   4.31103091e-06\n",
      "   3.02694749e-03   4.27594201e-03   0.00000000e+00   3.15355623e-02\n",
      "   1.46883832e-01   1.98257779e-02   3.27298358e-02   1.22758706e-01\n",
      "   1.14221370e-01   1.62532452e-02   8.70445021e-03   1.57816894e-02\n",
      "   6.69134226e-02   2.41282443e-03   1.12256005e-02   8.73643649e-03\n",
      "   8.54484062e-03   1.30719586e-02   3.48612653e-03   2.12571443e-03\n",
      "   2.89706140e-02   3.87848202e-04]\n",
      "34\n",
      "Index(['Pclass', 'SibSp', 'Parch', 'Fare', 'Jonkheer', 'Countess', 'Capt',\n",
      "       'Col', 'Mlle', 'Sir', 'Lady', 'Mme', 'Dr', 'Rev', 'Don', 'Mrs', 'Mr',\n",
      "       'Master', 'Miss', 'sex_female', 'sex_male', 'embarked_C', 'embarked_Q',\n",
      "       'embarked_S', 'sibspparch', 'cabinchar_A', 'cabinchar_B', 'cabinchar_C',\n",
      "       'cabinchar_D', 'cabinchar_E', 'cabinchar_F', 'cabinchar_G',\n",
      "       'cabinchar_None', 'cabinchar_T'],\n",
      "      dtype='object')\n"
     ]
    }
   ],
   "source": [
    "rf2=RandomForestClassifier(random_state=300,n_estimators=107,max_depth=9)\n",
    "rf2.fit(X_train.drop(['PassengerId'],axis=1),y_train)\n",
    "print(rf2.feature_importances_)\n",
    "print(rf2.n_features_ )\n",
    "print(tito_drop.drop(['Survived','PassengerId'],axis=1).columns)"
   ]
  },
  {
   "cell_type": "code",
   "execution_count": 57,
   "metadata": {},
   "outputs": [
    {
     "data": {
      "text/plain": [
       "0.81034482758620685"
      ]
     },
     "execution_count": 57,
     "metadata": {},
     "output_type": "execute_result"
    }
   ],
   "source": [
    "predicted_rf=rf2.predict(X_test.drop('PassengerId',axis=1))\n",
    "accuracy_score(predicted_rf,y_test)"
   ]
  },
  {
   "cell_type": "code",
   "execution_count": 58,
   "metadata": {},
   "outputs": [
    {
     "data": {
      "text/plain": [
       "RandomForestClassifier(bootstrap=True, class_weight=None, criterion='gini',\n",
       "            max_depth=9, max_features='auto', max_leaf_nodes=None,\n",
       "            min_impurity_decrease=0.0, min_impurity_split=None,\n",
       "            min_samples_leaf=1, min_samples_split=2,\n",
       "            min_weight_fraction_leaf=0.0, n_estimators=107, n_jobs=1,\n",
       "            oob_score=False, random_state=300, verbose=0, warm_start=False)"
      ]
     },
     "execution_count": 58,
     "metadata": {},
     "output_type": "execute_result"
    }
   ],
   "source": [
    "rf2"
   ]
  },
  {
   "cell_type": "markdown",
   "metadata": {
    "collapsed": true
   },
   "source": [
    "- random forest v2"
   ]
  },
  {
   "cell_type": "code",
   "execution_count": 62,
   "metadata": {},
   "outputs": [],
   "source": [
    "def rfmodel2(xl,yl):\n",
    "    \n",
    "    t0=time()\n",
    "    #min_samples_split=range(3,120),\n",
    "    param_grid=dict(max_depth=range(4,10),n_estimators=list(range(99,150))+[500,1000])\n",
    "\n",
    "    #svm=SVC()\n",
    "    rf=RandomForestClassifier(random_state=423)\n",
    "    grid_rf_titan=GridSearchCV(rf,param_grid,cv=10,scoring='accuracy',n_jobs=6)\n",
    "\n",
    "    #titanic\n",
    "    grid_rf_titan.fit(xl.drop(['PassengerId'],axis=1),yl)\n",
    "\n",
    "   # print(grid_rf_titan.grid_scores_)\n",
    "    print(\"And the oscar goes to: \")\n",
    "    print(grid_rf_titan.best_score_)\n",
    "    print(\"with parameters: \")\n",
    "    print(grid_rf_titan.best_params_)\n",
    "    t1=time()\n",
    "    print(\"In: \",t1-t0,\" s.\")\n"
   ]
  },
  {
   "cell_type": "code",
   "execution_count": 63,
   "metadata": {},
   "outputs": [
    {
     "name": "stdout",
     "output_type": "stream",
     "text": [
      "And the oscar goes to: \n",
      "0.833548387097\n",
      "with parameters: \n",
      "{'max_depth': 5, 'n_estimators': 139}\n",
      "In:  212.22578406333923  s.\n"
     ]
    }
   ],
   "source": [
    "rfmodel2(X_train,y_train)"
   ]
  },
  {
   "cell_type": "code",
   "execution_count": 95,
   "metadata": {
    "collapsed": true
   },
   "outputs": [],
   "source": []
  },
  {
   "cell_type": "code",
   "execution_count": 107,
   "metadata": {
    "collapsed": true
   },
   "outputs": [],
   "source": []
  },
  {
   "cell_type": "markdown",
   "metadata": {},
   "source": [
    "- Check the tree as pdf"
   ]
  },
  {
   "cell_type": "code",
   "execution_count": 115,
   "metadata": {},
   "outputs": [
    {
     "data": {
      "text/plain": [
       "True"
      ]
     },
     "execution_count": 115,
     "metadata": {},
     "output_type": "execute_result"
    }
   ],
   "source": [
    "dot_data=StringIO()\n",
    "tree.export_graphviz(dt2,\n",
    "                     out_file=dot_data,\n",
    "                     feature_names=X_train.drop(['cabinchar_T','PassengerId'],axis=1).columns,\n",
    "                     class_names=[\"n\",\"y\"],\n",
    "                     filled=True, rounded=True, impurity=False)\n",
    "graph=pydotplus.graph_from_dot_data(dot_data.getvalue())\n",
    "graph.write_pdf(\"tiitanic-nopassidDT.pdf\")\n"
   ]
  },
  {
   "cell_type": "markdown",
   "metadata": {
    "collapsed": true
   },
   "source": [
    "- SVM"
   ]
  },
  {
   "cell_type": "code",
   "execution_count": 68,
   "metadata": {
    "scrolled": true
   },
   "outputs": [
    {
     "name": "stdout",
     "output_type": "stream",
     "text": [
      "And the oscar goes to: \n",
      "0.61935483871\n",
      "with params: \n",
      "{'C': 1, 'gamma': 1.0}\n",
      "In:  18.560485124588013  s.\n"
     ]
    }
   ],
   "source": [
    "from time import time\n",
    "t0=time()\n",
    "#svm_cs= [1,10,10000,500000]\n",
    "#svm_gammas=[0.33,1,10,100]\n",
    "svm_cs= [1,10,1000,10000,50000]\n",
    "svm_gammas=list(reversed([0.05]+[(1/float(x)) for x in range(1,7,2)]))+[10**x for x in range(1,7,2)]\n",
    "param_grid=dict(C=svm_cs,gamma=svm_gammas)\n",
    "svm=SVC()\n",
    "\n",
    "grid=GridSearchCV(svm,param_grid,cv=10,scoring='accuracy')\n",
    "#grid.fit(iris_f,iris_cat)\n",
    "#Titanic SVM \n",
    "grid.fit(X_train,y_train)\n",
    "#print(grid.cv_results_)\n",
    "#print(grid.grid_scores_)\n",
    "print(\"And the oscar goes to: \")\n",
    "print(grid.best_score_)\n",
    "print (\"with params: \")\n",
    "print(grid.best_params_)\n",
    "t1=time()\n",
    "print(\"In: \",t1-t0,\" s.\")"
   ]
  },
  {
   "cell_type": "markdown",
   "metadata": {
    "collapsed": true
   },
   "source": [
    "- AdaBoostClassifier"
   ]
  },
  {
   "cell_type": "code",
   "execution_count": 74,
   "metadata": {},
   "outputs": [
    {
     "name": "stdout",
     "output_type": "stream",
     "text": [
      "And the oscar goes to: \n",
      "0.814193548387\n",
      "with param: \n",
      "{'n_estimators': 5}\n",
      "In:  12.95722222328186  s.\n"
     ]
    }
   ],
   "source": [
    "from time import time\n",
    "t0=time()\n",
    "#svm_cs= [1,10,10000,500000]\n",
    "#svm_gammas=[0.33,1,10,100]\n",
    "#svm_cs= [1,10,100,1000,10000,50000,100000,500000,1000000]\n",
    "#svm_gammas=list(reversed([0.01,0.05]+[(1/float(x)) for x in range(1,7)]))+[10**x for x in range(1,7)]\n",
    "param_grid=dict(min_samples_split=range(5,100,5))\n",
    "param_grid=dict(n_estimators=range(5,100,5))\n",
    "\n",
    "#svm=SVC()\n",
    "dt=AdaBoostClassifier()\n",
    "grid=GridSearchCV(dt,param_grid,cv=10,scoring='accuracy')\n",
    "\n",
    "\n",
    "\n",
    "#titanic\n",
    "grid.fit(X_train,y_train)\n",
    "\n",
    "#grid.fit(iris_f,iris_cat)\n",
    "\n",
    "\n",
    "#print(grid.cv_results_)\n",
    "#print(grid.grid_scores_)\n",
    "print(\"And the oscar goes to: \")\n",
    "print(grid.best_score_)\n",
    "print (\"with param: \")\n",
    "print(grid.best_params_)\n",
    "t1=time()\n",
    "print(\"In: \",t1-t0,\" s.\")"
   ]
  },
  {
   "cell_type": "code",
   "execution_count": null,
   "metadata": {
    "collapsed": true
   },
   "outputs": [],
   "source": []
  },
  {
   "cell_type": "markdown",
   "metadata": {
    "collapsed": true
   },
   "source": [
    "- KNN"
   ]
  },
  {
   "cell_type": "code",
   "execution_count": 76,
   "metadata": {},
   "outputs": [
    {
     "name": "stdout",
     "output_type": "stream",
     "text": [
      "And the oscar goes to: \n",
      "0.655483870968\n",
      "with k neighbors : \n",
      "{'n_neighbors': 17}\n",
      "In:  1.7268221378326416  s.\n"
     ]
    }
   ],
   "source": [
    "\n",
    "from time import time\n",
    "t0=time()\n",
    "#svm_cs= [1,10,10000,500000]\n",
    "#svm_gammas=[0.33,1,10,100]\n",
    "#svm_cs= [1,10,100,1000,10000,50000,100000,500000,1000000]\n",
    "#svm_gammas=list(reversed([0.01,0.05]+[(1/float(x)) for x in range(1,7)]))+[10**x for x in range(1,7)]\n",
    "param_grid=dict(n_neighbors=range(3,20))\n",
    "#param_grid=dict(n_estimators=range(5,100,5))\n",
    "\n",
    "#svm=SVC()\n",
    "dt=KNeighborsClassifier()\n",
    "grid=GridSearchCV(dt,param_grid,cv=10,scoring='accuracy')\n",
    "\n",
    "#titanic\n",
    "grid.fit(X_train,y_train)\n",
    "\n",
    "#grid.fit(iris_f,iris_cat)\n",
    "\n",
    "#print(grid.cv_results_)\n",
    "#print(grid.grid_scores_)\n",
    "print(\"And the oscar goes to: \")\n",
    "print(grid.best_score_)\n",
    "print (\"with k neighbors : \")\n",
    "print(grid.best_params_)\n",
    "t1=time()\n",
    "print(\"In: \",t1-t0,\" s.\")"
   ]
  },
  {
   "cell_type": "markdown",
   "metadata": {
    "collapsed": true
   },
   "source": [
    "- KNN with minmax scaler"
   ]
  },
  {
   "cell_type": "code",
   "execution_count": 78,
   "metadata": {
    "scrolled": true
   },
   "outputs": [
    {
     "name": "stdout",
     "output_type": "stream",
     "text": [
      "And the oscar goes to: \n",
      "0.812903225806\n",
      "with params: \n",
      "{'leaf_size': 10, 'n_neighbors': 8}\n",
      "In:  43.43093514442444  s.\n"
     ]
    }
   ],
   "source": [
    "from sklearn.preprocessing import MinMaxScaler\n",
    "\n",
    "\n",
    "from time import time\n",
    "t0=time()\n",
    "#svm_cs= [1,10,10000,500000]\n",
    "#svm_gammas=[0.33,1,10,100]\n",
    "#svm_cs= [1,10,100,1000,10000,50000,100000,500000,1000000]\n",
    "#svm_gammas=list(reversed([0.01,0.05]+[(1/float(x)) for x in range(1,7)]))+[10**x for x in range(1,7)]\n",
    "param_grid=dict(n_neighbors=range(2,10),leaf_size=range(10,41))\n",
    "#param_grid=dict(n_estimators=range(5,100,5))\n",
    "scaler = MinMaxScaler()\n",
    "#iris_f2= scaler.fit_transform(iris_f)\n",
    "#titanic scaling\n",
    "\n",
    "train_tit4_scale= scaler.fit_transform(X_train)\n",
    "#svm=SVC()\n",
    "dt=KNeighborsClassifier()\n",
    "grid=GridSearchCV(dt,param_grid,cv=10,scoring='accuracy')\n",
    "\n",
    "#titanic\n",
    "grid.fit(train_tit4_scale,y_train)\n",
    "\n",
    "#grid.fit(iris_f,iris_cat)\n",
    "\n",
    "#print(grid.cv_results_)\n",
    "#print(grid.grid_scores_)\n",
    "print(\"And the oscar goes to: \")\n",
    "print(grid.best_score_)\n",
    "print( \"with params: \")\n",
    "print(grid.best_params_)\n",
    "t1=time()\n",
    "print(\"In: \",t1-t0,\" s.\")"
   ]
  },
  {
   "cell_type": "code",
   "execution_count": null,
   "metadata": {
    "collapsed": true
   },
   "outputs": [],
   "source": []
  }
 ],
 "metadata": {
  "kernelspec": {
   "display_name": "Python 3",
   "language": "python",
   "name": "python3"
  },
  "language_info": {
   "codemirror_mode": {
    "name": "ipython",
    "version": 3
   },
   "file_extension": ".py",
   "mimetype": "text/x-python",
   "name": "python",
   "nbconvert_exporter": "python",
   "pygments_lexer": "ipython3",
   "version": "3.6.2"
  }
 },
 "nbformat": 4,
 "nbformat_minor": 1
}
